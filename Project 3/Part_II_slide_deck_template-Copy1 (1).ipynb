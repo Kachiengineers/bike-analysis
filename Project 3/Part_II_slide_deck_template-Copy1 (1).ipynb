{
 "cells": [
  {
   "cell_type": "markdown",
   "metadata": {
    "slideshow": {
     "slide_type": "slide"
    }
   },
   "source": [
    "# Part II - San Francisco Bay Area Bike System Exploration\n",
    "## by Ukachi Agnes Eze-Mbey"
   ]
  },
  {
   "cell_type": "markdown",
   "metadata": {
    "slideshow": {
     "slide_type": "slide"
    }
   },
   "source": [
    "\n",
    "\n",
    "## Investigation Overview\n",
    "\n",
    "To draw insights from the data, I made use of the three (3) different levels of visualizations:\n",
    "\n",
    "a. univariate, by the way of histograms (for numerical variables), pie charts, and bar charts (for qualitative factors)\n",
    "\n",
    "\n",
    "b. bivariate, in form of scatter plots, clustered bar charts, and box plots to see the relationship between two sets of variables\n",
    "\n",
    "\n",
    "c. multivariate plots, such as adapted heatmaps, clusterd bar charts and a correlation matrix\n",
    "\n",
    "\n",
    "\n",
    "## Dataset Overview\n",
    "\n",
    "> The dataset analyzed includes information about individual rides made in a bike-sharing system covering the greater San Francisco Bay area. It contains start and end station of the bikes, start and end time of sharing, information on whether the user is a customer or susbcriber to the system, member gender and year of birth."
   ]
  },
  {
   "cell_type": "code",
   "execution_count": 1,
   "metadata": {
    "slideshow": {
     "slide_type": "skip"
    }
   },
   "outputs": [],
   "source": [
    "# import all packages and set plots to be embedded inline\n",
    "import numpy as np\n",
    "import pandas as pd\n",
    "import matplotlib.pyplot as plt\n",
    "import seaborn as sb\n",
    "sb.set(style = 'whitegrid')\n",
    "%matplotlib inline\n",
    "import math as mth\n",
    "\n",
    "# suppress warnings from final output\n",
    "import warnings\n",
    "warnings.simplefilter(\"ignore\")"
   ]
  },
  {
   "cell_type": "code",
   "execution_count": 2,
   "metadata": {
    "slideshow": {
     "slide_type": "skip"
    }
   },
   "outputs": [
    {
     "data": {
      "text/html": [
       "<div>\n",
       "<style scoped>\n",
       "    .dataframe tbody tr th:only-of-type {\n",
       "        vertical-align: middle;\n",
       "    }\n",
       "\n",
       "    .dataframe tbody tr th {\n",
       "        vertical-align: top;\n",
       "    }\n",
       "\n",
       "    .dataframe thead th {\n",
       "        text-align: right;\n",
       "    }\n",
       "</style>\n",
       "<table border=\"1\" class=\"dataframe\">\n",
       "  <thead>\n",
       "    <tr style=\"text-align: right;\">\n",
       "      <th></th>\n",
       "      <th>bike_id</th>\n",
       "      <th>user_type</th>\n",
       "      <th>member_gender</th>\n",
       "      <th>age</th>\n",
       "      <th>start_station_name</th>\n",
       "      <th>end_station_name</th>\n",
       "      <th>start_day</th>\n",
       "      <th>start_month</th>\n",
       "      <th>end_day</th>\n",
       "      <th>end_month</th>\n",
       "      <th>time_interval_min</th>\n",
       "      <th>bike_share_for_all_trip</th>\n",
       "    </tr>\n",
       "  </thead>\n",
       "  <tbody>\n",
       "    <tr>\n",
       "      <th>0</th>\n",
       "      <td>4902</td>\n",
       "      <td>Customer</td>\n",
       "      <td>Male</td>\n",
       "      <td>35</td>\n",
       "      <td>Montgomery St BART Station (Market St at 2nd St)</td>\n",
       "      <td>Commercial St at Montgomery St</td>\n",
       "      <td>Thursday</td>\n",
       "      <td>February</td>\n",
       "      <td>Friday</td>\n",
       "      <td>March</td>\n",
       "      <td>869.75</td>\n",
       "      <td>No</td>\n",
       "    </tr>\n",
       "    <tr>\n",
       "      <th>2</th>\n",
       "      <td>5905</td>\n",
       "      <td>Customer</td>\n",
       "      <td>Male</td>\n",
       "      <td>47</td>\n",
       "      <td>Market St at Dolores St</td>\n",
       "      <td>Powell St BART Station (Market St at 4th St)</td>\n",
       "      <td>Thursday</td>\n",
       "      <td>February</td>\n",
       "      <td>Friday</td>\n",
       "      <td>March</td>\n",
       "      <td>1030.90</td>\n",
       "      <td>No</td>\n",
       "    </tr>\n",
       "    <tr>\n",
       "      <th>3</th>\n",
       "      <td>6638</td>\n",
       "      <td>Subscriber</td>\n",
       "      <td>Other</td>\n",
       "      <td>30</td>\n",
       "      <td>Grove St at Masonic Ave</td>\n",
       "      <td>Central Ave at Fell St</td>\n",
       "      <td>Thursday</td>\n",
       "      <td>February</td>\n",
       "      <td>Friday</td>\n",
       "      <td>March</td>\n",
       "      <td>608.17</td>\n",
       "      <td>No</td>\n",
       "    </tr>\n",
       "    <tr>\n",
       "      <th>4</th>\n",
       "      <td>4898</td>\n",
       "      <td>Subscriber</td>\n",
       "      <td>Male</td>\n",
       "      <td>45</td>\n",
       "      <td>Frank H Ogawa Plaza</td>\n",
       "      <td>10th Ave at E 15th St</td>\n",
       "      <td>Thursday</td>\n",
       "      <td>February</td>\n",
       "      <td>Friday</td>\n",
       "      <td>March</td>\n",
       "      <td>26.42</td>\n",
       "      <td>Yes</td>\n",
       "    </tr>\n",
       "    <tr>\n",
       "      <th>5</th>\n",
       "      <td>5200</td>\n",
       "      <td>Subscriber</td>\n",
       "      <td>Male</td>\n",
       "      <td>60</td>\n",
       "      <td>4th St at Mission Bay Blvd S</td>\n",
       "      <td>Broadway at Kearny</td>\n",
       "      <td>Thursday</td>\n",
       "      <td>February</td>\n",
       "      <td>Friday</td>\n",
       "      <td>March</td>\n",
       "      <td>29.88</td>\n",
       "      <td>No</td>\n",
       "    </tr>\n",
       "  </tbody>\n",
       "</table>\n",
       "</div>"
      ],
      "text/plain": [
       "   bike_id   user_type member_gender  age  \\\n",
       "0     4902    Customer          Male   35   \n",
       "2     5905    Customer          Male   47   \n",
       "3     6638  Subscriber         Other   30   \n",
       "4     4898  Subscriber          Male   45   \n",
       "5     5200  Subscriber          Male   60   \n",
       "\n",
       "                                 start_station_name  \\\n",
       "0  Montgomery St BART Station (Market St at 2nd St)   \n",
       "2                           Market St at Dolores St   \n",
       "3                           Grove St at Masonic Ave   \n",
       "4                               Frank H Ogawa Plaza   \n",
       "5                      4th St at Mission Bay Blvd S   \n",
       "\n",
       "                               end_station_name start_day start_month end_day  \\\n",
       "0                Commercial St at Montgomery St  Thursday    February  Friday   \n",
       "2  Powell St BART Station (Market St at 4th St)  Thursday    February  Friday   \n",
       "3                        Central Ave at Fell St  Thursday    February  Friday   \n",
       "4                         10th Ave at E 15th St  Thursday    February  Friday   \n",
       "5                            Broadway at Kearny  Thursday    February  Friday   \n",
       "\n",
       "  end_month  time_interval_min bike_share_for_all_trip  \n",
       "0     March             869.75                      No  \n",
       "2     March            1030.90                      No  \n",
       "3     March             608.17                      No  \n",
       "4     March              26.42                     Yes  \n",
       "5     March              29.88                      No  "
      ]
     },
     "execution_count": 2,
     "metadata": {},
     "output_type": "execute_result"
    }
   ],
   "source": [
    "# load in the dataset into a pandas dataframe\n",
    "ford_go_bike = pd.read_csv('201902-fordgobike-tripdata.csv')\n",
    "ford_go_bike = ford_go_bike.dropna() \n",
    "ford_go_bike.isnull().sum()\n",
    "ford_go_bike['member_birth_year'] = ford_go_bike.member_birth_year.astype(int) \n",
    "#extract year from start and end time\n",
    "ford_go_bike['year'] = pd.DatetimeIndex(ford_go_bike['start_time']).year \n",
    "ford_go_bike['end_year'] = pd.DatetimeIndex(ford_go_bike['end_time']).year\n",
    "#extract start month from start time and end time\n",
    "ford_go_bike['start_month'] = pd.DatetimeIndex(ford_go_bike['start_time']).month_name() \n",
    "ford_go_bike['end_month'] = pd.DatetimeIndex(ford_go_bike['end_time']).month_name() \n",
    "#extract start day from start time and end time\n",
    "ford_go_bike['start_day'] = pd.DatetimeIndex(ford_go_bike['start_time']).day_name() \n",
    "ford_go_bike['end_day'] = pd.DatetimeIndex(ford_go_bike['end_time']).day_name()\n",
    "\n",
    "ford_go_bike['age'] = ford_go_bike.year - ford_go_bike.member_birth_year \n",
    "ford_go_bike['duration_sec'] = ford_go_bike.duration_sec.apply(lambda x: '{:.2f}'.format(x/60))\n",
    "ford_go_bike.rename(columns = {'duration_sec' : 'time_interval_min'}, inplace = True)\n",
    "ford_go_bike['time_interval_min'] = ford_go_bike.time_interval_min.astype(float)\n",
    "\n",
    "ford_go_bike_ = ford_go_bike[['bike_id', 'user_type', 'member_gender',  'age','start_station_name', 'end_station_name','start_day'\n",
    "                            ,'start_month', 'end_day','end_month', 'time_interval_min', 'bike_share_for_all_trip']]\n",
    "ford_go_bike_.head()"
   ]
  },
  {
   "cell_type": "markdown",
   "metadata": {
    "slideshow": {
     "slide_type": "slide"
    }
   },
   "source": [
    "## Visualization 1\n",
    "\n",
    "User type ratio: 90.5% of the users are subscribers while less than than 10% are customers"
   ]
  },
  {
   "attachments": {
    "image.png": {
     "image/png": "[encoded data removed]"
    }
   },
   "cell_type": "markdown",
   "metadata": {
    "slideshow": {
     "slide_type": "subslide"
    }
   },
   "source": [
    "![image.png](attachment:image.png)"
   ]
  },
  {
   "cell_type": "markdown",
   "metadata": {
    "collapsed": true,
    "slideshow": {
     "slide_type": "slide"
    }
   },
   "source": [
    "## Visualization 2\n",
    "Gender Distribution: 23.3% of the users are female, 74.6 % are male and 2.1% other\n"
   ]
  },
  {
   "attachments": {
    "image04.png": {
     "image/png": "[encoded data removed]"
    }
   },
   "cell_type": "markdown",
   "metadata": {
    "slideshow": {
     "slide_type": "subslide"
    }
   },
   "source": [
    "![image04.png](attachment:image04.png)"
   ]
  },
  {
   "cell_type": "markdown",
   "metadata": {
    "slideshow": {
     "slide_type": "slide"
    }
   },
   "source": [
    "## Visualization 3\n",
    "User-Gender Distribution: 91.2%(119007)of the male users are subscribers while 88.7%(36182) of the female users are subscribers\n",
    "\n"
   ]
  },
  {
   "attachments": {
    "image10.png": {
     "image/png": "[encoded data removed]"
    }
   },
   "cell_type": "markdown",
   "metadata": {
    "slideshow": {
     "slide_type": "subslide"
    }
   },
   "source": [
    "![image10.png](attachment:image10.png)"
   ]
  },
  {
   "cell_type": "markdown",
   "metadata": {
    "slideshow": {
     "slide_type": "skip"
    }
   },
   "source": [
    "### Generate Slideshow\n",
    "Once you're ready to generate your slideshow, use the `jupyter nbconvert` command to generate the HTML slide show.  "
   ]
  },
  {
   "cell_type": "code",
   "execution_count": null,
   "metadata": {
    "slideshow": {
     "slide_type": "skip"
    }
   },
   "outputs": [
    {
     "name": "stdout",
     "output_type": "stream",
     "text": [
      "[NbConvertApp] Converting notebook Part_II_slide_deck_template.ipynb to slides\n",
      "[NbConvertApp] Writing 330429 bytes to Part_II_slide_deck_template.slides.html\n",
      "[NbConvertApp] Redirecting reveal.js requests to https://cdnjs.cloudflare.com/ajax/libs/reveal.js/3.5.0\n",
      "Serving your slides at http://127.0.0.1:8000/Part_II_slide_deck_template.slides.html\n",
      "Use Control-C to stop this server\n",
      "/usr/bin/xdg-open: 778: /usr/bin/xdg-open: x-www-browser: not found\n",
      "/usr/bin/xdg-open: 778: /usr/bin/xdg-open: firefox: not found\n",
      "/usr/bin/xdg-open: 778: /usr/bin/xdg-open: iceweasel: not found\n",
      "/usr/bin/xdg-open: 778: /usr/bin/xdg-open: seamonkey: not found\n",
      "/usr/bin/xdg-open: 778: /usr/bin/xdg-open: mozilla: not found\n",
      "/usr/bin/xdg-open: 778: /usr/bin/xdg-open: epiphany: not found\n",
      "/usr/bin/xdg-open: 778: /usr/bin/xdg-open: konqueror: not found\n",
      "/usr/bin/xdg-open: 778: /usr/bin/xdg-open: chromium-browser: not found\n",
      "/usr/bin/xdg-open: 778: /usr/bin/xdg-open: google-chrome: not found\n",
      "/usr/bin/xdg-open: 778: /usr/bin/xdg-open: www-browser: not found\n",
      "/usr/bin/xdg-open: 778: /usr/bin/xdg-open: links2: not found\n",
      "/usr/bin/xdg-open: 778: /usr/bin/xdg-open: elinks: not found\n",
      "/usr/bin/xdg-open: 778: /usr/bin/xdg-open: links: not found\n",
      "/usr/bin/xdg-open: 778: /usr/bin/xdg-open: lynx: not found\n",
      "/usr/bin/xdg-open: 778: /usr/bin/xdg-open: w3m: not found\n",
      "xdg-open: no method available for opening 'http://127.0.0.1:8000/Part_II_slide_deck_template.slides.html'\n"
     ]
    }
   ],
   "source": [
    "# Use this command if you are running this file in local\n",
    "!jupyter nbconvert Part_II_slide_deck_template.ipynb --to slides --post serve --no-input --no-prompt"
   ]
  },
  {
   "cell_type": "markdown",
   "metadata": {
    "slideshow": {
     "slide_type": "skip"
    }
   },
   "source": [
    "> In the classroom workspace, the generated HTML slideshow will be placed in the home folder. \n",
    "\n",
    "> In local machines, the command above should open a tab in your web browser where you can scroll through your presentation. Sub-slides can be accessed by pressing 'down' when viewing its parent slide. Make sure you remove all of the quote-formatted guide notes like this one before you finish your presentation! At last, you can stop the Kernel. "
   ]
  }
 ],
 "metadata": {
  "celltoolbar": "Slideshow",
  "kernelspec": {
   "display_name": "Python 3",
   "language": "python",
   "name": "python3"
  },
  "language_info": {
   "codemirror_mode": {
    "name": "ipython",
    "version": 3
   },
   "file_extension": ".py",
   "mimetype": "text/x-python",
   "name": "python",
   "nbconvert_exporter": "python",
   "pygments_lexer": "ipython3",
   "version": "3.6.3"
  }
 },
 "nbformat": 4,
 "nbformat_minor": 2
}
